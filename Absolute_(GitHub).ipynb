{
  "nbformat": 4,
  "nbformat_minor": 0,
  "metadata": {
    "colab": {
      "name": "Absolute (GitHub).ipynb",
      "provenance": [],
      "authorship_tag": "ABX9TyPVehwYhzcfaHumKreASF0U",
      "include_colab_link": true
    },
    "kernelspec": {
      "name": "python3",
      "display_name": "Python 3"
    }
  },
  "cells": [
    {
      "cell_type": "markdown",
      "metadata": {
        "id": "view-in-github",
        "colab_type": "text"
      },
      "source": [
        "<a href=\"https://colab.research.google.com/github/ShivanshGupta1/Absolute/blob/main/Absolute_(GitHub).ipynb\" target=\"_parent\"><img src=\"https://colab.research.google.com/assets/colab-badge.svg\" alt=\"Open In Colab\"/></a>"
      ]
    },
    {
      "cell_type": "code",
      "metadata": {
        "id": "XPqLA2mkwecH"
      },
      "source": [
        "from math import *\n",
        "x = int(input('First Number: '))\n",
        "y = int(input('Second Number: '))\n",
        "print(abs(x-y)/(x+y))"
      ],
      "execution_count": null,
      "outputs": []
    }
  ]
}